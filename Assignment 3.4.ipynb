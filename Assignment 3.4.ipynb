{
 "cells": [
  {
   "cell_type": "markdown",
   "metadata": {},
   "source": [
    "#### Assignment 3.4\n",
    "\n",
    "For this week’s assignment we're going to use Dodgers Major League Baseball data from 2012. The data file you will be using is contained in the dodgers.csv file. I would like you to determine what night would be the best to run a marketing promotion to increase attendance. You will want to use TRAIN. As a reminder, the training set is the data we fit our model on. Use a combination of R and Python to accomplish this assignment. From this data, at a minimum, you should be able to demonstrate the following:\n",
    "\n",
    "* Box plots\n",
    "* Scatter plots\n",
    "* Regression Model"
   ]
  },
  {
   "cell_type": "markdown",
   "metadata": {},
   "source": [
    "### Process data\n",
    "\n",
    "#### Load data"
   ]
  },
  {
   "cell_type": "code",
   "execution_count": 6,
   "metadata": {},
   "outputs": [],
   "source": [
    "# required to pre-load for piping\n",
    "library('magrittr')\n",
    "\n",
    "# define data directory\n",
    "dirdata <- paste(getwd(),'data',sep='/')\n",
    "\n",
    "# load dodgers data file\n",
    "dodgers_raw <- read.csv(paste(dirdata,'dodgers.csv',sep='/'), stringsAsFactors=FALSE)"
   ]
  },
  {
   "cell_type": "markdown",
   "metadata": {},
   "source": [
    "#### Exploratory Data Analysis"
   ]
  },
  {
   "cell_type": "code",
   "execution_count": 9,
   "metadata": {},
   "outputs": [
    {
     "data": {
      "text/html": [
       "<table>\n",
       "<caption>A data.frame: 6 × 12</caption>\n",
       "<thead>\n",
       "\t<tr><th scope=col>month</th><th scope=col>day</th><th scope=col>attend</th><th scope=col>day_of_week</th><th scope=col>opponent</th><th scope=col>temp</th><th scope=col>skies</th><th scope=col>day_night</th><th scope=col>cap</th><th scope=col>shirt</th><th scope=col>fireworks</th><th scope=col>bobblehead</th></tr>\n",
       "\t<tr><th scope=col>&lt;chr&gt;</th><th scope=col>&lt;int&gt;</th><th scope=col>&lt;int&gt;</th><th scope=col>&lt;chr&gt;</th><th scope=col>&lt;chr&gt;</th><th scope=col>&lt;int&gt;</th><th scope=col>&lt;chr&gt;</th><th scope=col>&lt;chr&gt;</th><th scope=col>&lt;chr&gt;</th><th scope=col>&lt;chr&gt;</th><th scope=col>&lt;chr&gt;</th><th scope=col>&lt;chr&gt;</th></tr>\n",
       "</thead>\n",
       "<tbody>\n",
       "\t<tr><td>APR</td><td>10</td><td>56000</td><td>Tuesday  </td><td>Pirates</td><td>67</td><td>Clear </td><td>Day  </td><td>NO</td><td>NO</td><td>NO </td><td>NO</td></tr>\n",
       "\t<tr><td>APR</td><td>11</td><td>29729</td><td>Wednesday</td><td>Pirates</td><td>58</td><td>Cloudy</td><td>Night</td><td>NO</td><td>NO</td><td>NO </td><td>NO</td></tr>\n",
       "\t<tr><td>APR</td><td>12</td><td>28328</td><td>Thursday </td><td>Pirates</td><td>57</td><td>Cloudy</td><td>Night</td><td>NO</td><td>NO</td><td>NO </td><td>NO</td></tr>\n",
       "\t<tr><td>APR</td><td>13</td><td>31601</td><td>Friday   </td><td>Padres </td><td>54</td><td>Cloudy</td><td>Night</td><td>NO</td><td>NO</td><td>YES</td><td>NO</td></tr>\n",
       "\t<tr><td>APR</td><td>14</td><td>46549</td><td>Saturday </td><td>Padres </td><td>57</td><td>Cloudy</td><td>Night</td><td>NO</td><td>NO</td><td>NO </td><td>NO</td></tr>\n",
       "\t<tr><td>APR</td><td>15</td><td>38359</td><td>Sunday   </td><td>Padres </td><td>65</td><td>Clear </td><td>Day  </td><td>NO</td><td>NO</td><td>NO </td><td>NO</td></tr>\n",
       "</tbody>\n",
       "</table>\n"
      ],
      "text/latex": [
       "A data.frame: 6 × 12\n",
       "\\begin{tabular}{r|llllllllllll}\n",
       " month & day & attend & day\\_of\\_week & opponent & temp & skies & day\\_night & cap & shirt & fireworks & bobblehead\\\\\n",
       " <chr> & <int> & <int> & <chr> & <chr> & <int> & <chr> & <chr> & <chr> & <chr> & <chr> & <chr>\\\\\n",
       "\\hline\n",
       "\t APR & 10 & 56000 & Tuesday   & Pirates & 67 & Clear  & Day   & NO & NO & NO  & NO\\\\\n",
       "\t APR & 11 & 29729 & Wednesday & Pirates & 58 & Cloudy & Night & NO & NO & NO  & NO\\\\\n",
       "\t APR & 12 & 28328 & Thursday  & Pirates & 57 & Cloudy & Night & NO & NO & NO  & NO\\\\\n",
       "\t APR & 13 & 31601 & Friday    & Padres  & 54 & Cloudy & Night & NO & NO & YES & NO\\\\\n",
       "\t APR & 14 & 46549 & Saturday  & Padres  & 57 & Cloudy & Night & NO & NO & NO  & NO\\\\\n",
       "\t APR & 15 & 38359 & Sunday    & Padres  & 65 & Clear  & Day   & NO & NO & NO  & NO\\\\\n",
       "\\end{tabular}\n"
      ],
      "text/markdown": [
       "\n",
       "A data.frame: 6 × 12\n",
       "\n",
       "| month &lt;chr&gt; | day &lt;int&gt; | attend &lt;int&gt; | day_of_week &lt;chr&gt; | opponent &lt;chr&gt; | temp &lt;int&gt; | skies &lt;chr&gt; | day_night &lt;chr&gt; | cap &lt;chr&gt; | shirt &lt;chr&gt; | fireworks &lt;chr&gt; | bobblehead &lt;chr&gt; |\n",
       "|---|---|---|---|---|---|---|---|---|---|---|---|\n",
       "| APR | 10 | 56000 | Tuesday   | Pirates | 67 | Clear  | Day   | NO | NO | NO  | NO |\n",
       "| APR | 11 | 29729 | Wednesday | Pirates | 58 | Cloudy | Night | NO | NO | NO  | NO |\n",
       "| APR | 12 | 28328 | Thursday  | Pirates | 57 | Cloudy | Night | NO | NO | NO  | NO |\n",
       "| APR | 13 | 31601 | Friday    | Padres  | 54 | Cloudy | Night | NO | NO | YES | NO |\n",
       "| APR | 14 | 46549 | Saturday  | Padres  | 57 | Cloudy | Night | NO | NO | NO  | NO |\n",
       "| APR | 15 | 38359 | Sunday    | Padres  | 65 | Clear  | Day   | NO | NO | NO  | NO |\n",
       "\n"
      ],
      "text/plain": [
       "  month day attend day_of_week opponent temp skies  day_night cap shirt\n",
       "1 APR   10  56000  Tuesday     Pirates  67   Clear  Day       NO  NO   \n",
       "2 APR   11  29729  Wednesday   Pirates  58   Cloudy Night     NO  NO   \n",
       "3 APR   12  28328  Thursday    Pirates  57   Cloudy Night     NO  NO   \n",
       "4 APR   13  31601  Friday      Padres   54   Cloudy Night     NO  NO   \n",
       "5 APR   14  46549  Saturday    Padres   57   Cloudy Night     NO  NO   \n",
       "6 APR   15  38359  Sunday      Padres   65   Clear  Day       NO  NO   \n",
       "  fireworks bobblehead\n",
       "1 NO        NO        \n",
       "2 NO        NO        \n",
       "3 NO        NO        \n",
       "4 YES       NO        \n",
       "5 NO        NO        \n",
       "6 NO        NO        "
      ]
     },
     "metadata": {},
     "output_type": "display_data"
    }
   ],
   "source": [
    "# check data sample\n",
    "head(dodgers_raw)"
   ]
  },
  {
   "cell_type": "markdown",
   "metadata": {},
   "source": [
    "Check categorical columns"
   ]
  },
  {
   "cell_type": "code",
   "execution_count": 16,
   "metadata": {},
   "outputs": [
    {
     "data": {
      "text/plain": [
       "dodgers_raw \n",
       "\n",
       " 12  Variables      81  Observations\n",
       "--------------------------------------------------------------------------------\n",
       "month \n",
       "       n  missing distinct \n",
       "      81        0        7 \n",
       "                                                    \n",
       "Value        APR   AUG   JUL   JUN   MAY   OCT   SEP\n",
       "Frequency     12    15    12     9    18     3    12\n",
       "Proportion 0.148 0.185 0.148 0.111 0.222 0.037 0.148\n",
       "--------------------------------------------------------------------------------\n",
       "day \n",
       "       n  missing distinct     Info     Mean      Gmd      .05      .10 \n",
       "      81        0       31    0.998    16.14     11.1        2        3 \n",
       "     .25      .50      .75      .90      .95 \n",
       "       8       15       25       29       30 \n",
       "\n",
       "lowest :  1  2  3  4  5, highest: 27 28 29 30 31\n",
       "--------------------------------------------------------------------------------\n",
       "attend \n",
       "       n  missing distinct     Info     Mean      Gmd      .05      .10 \n",
       "      81        0       80        1    41040     9525    26773    31607 \n",
       "     .25      .50      .75      .90      .95 \n",
       "   34493    40284    46588    53570    55024 \n",
       "\n",
       "lowest : 24312 25509 26345 26376 26773, highest: 54621 55024 55279 55359 56000\n",
       "--------------------------------------------------------------------------------\n",
       "day_of_week \n",
       "       n  missing distinct \n",
       "      81        0        7 \n",
       "                                                                      \n",
       "Value         Friday    Monday  Saturday    Sunday  Thursday   Tuesday\n",
       "Frequency         13        12        13        13         5        13\n",
       "Proportion     0.160     0.148     0.160     0.160     0.062     0.160\n",
       "                    \n",
       "Value      Wednesday\n",
       "Frequency         12\n",
       "Proportion     0.148\n",
       "--------------------------------------------------------------------------------\n",
       "opponent \n",
       "       n  missing distinct \n",
       "      81        0       17 \n",
       "\n",
       "Angels (3, 0.037), Astros (3, 0.037), Braves (3, 0.037), Brewers (4, 0.049),\n",
       "Cardinals (7, 0.086), Cubs (3, 0.037), Giants (9, 0.111), Marlins (3, 0.037),\n",
       "Mets (4, 0.049), Nationals (3, 0.037), Padres (9, 0.111), Phillies (3, 0.037),\n",
       "Pirates (3, 0.037), Reds (3, 0.037), Rockies (9, 0.111), Snakes (9, 0.111),\n",
       "White Sox (3, 0.037)\n",
       "--------------------------------------------------------------------------------\n",
       "temp \n",
       "       n  missing distinct     Info     Mean      Gmd      .05      .10 \n",
       "      81        0       32    0.997    73.15    9.391       59       64 \n",
       "     .25      .50      .75      .90      .95 \n",
       "      67       73       79       84       86 \n",
       "\n",
       "lowest : 54 57 58 59 60, highest: 84 85 86 89 95\n",
       "--------------------------------------------------------------------------------\n",
       "skies \n",
       "       n  missing distinct \n",
       "      81        0        2 \n",
       "                        \n",
       "Value       Clear Cloudy\n",
       "Frequency      62     19\n",
       "Proportion  0.765  0.235\n",
       "--------------------------------------------------------------------------------\n",
       "day_night \n",
       "       n  missing distinct \n",
       "      81        0        2 \n",
       "                      \n",
       "Value        Day Night\n",
       "Frequency     15    66\n",
       "Proportion 0.185 0.815\n",
       "--------------------------------------------------------------------------------\n",
       "cap \n",
       "       n  missing distinct \n",
       "      81        0        2 \n",
       "                      \n",
       "Value         NO   YES\n",
       "Frequency     79     2\n",
       "Proportion 0.975 0.025\n",
       "--------------------------------------------------------------------------------\n",
       "shirt \n",
       "       n  missing distinct \n",
       "      81        0        2 \n",
       "                      \n",
       "Value         NO   YES\n",
       "Frequency     78     3\n",
       "Proportion 0.963 0.037\n",
       "--------------------------------------------------------------------------------\n",
       "fireworks \n",
       "       n  missing distinct \n",
       "      81        0        2 \n",
       "                      \n",
       "Value         NO   YES\n",
       "Frequency     67    14\n",
       "Proportion 0.827 0.173\n",
       "--------------------------------------------------------------------------------\n",
       "bobblehead \n",
       "       n  missing distinct \n",
       "      81        0        2 \n",
       "                      \n",
       "Value         NO   YES\n",
       "Frequency     70    11\n",
       "Proportion 0.864 0.136\n",
       "--------------------------------------------------------------------------------"
      ]
     },
     "metadata": {},
     "output_type": "display_data"
    }
   ],
   "source": [
    "# examine the data through descriptive statistics\n",
    "Hmisc::describe(dodgers_raw)"
   ]
  },
  {
   "cell_type": "markdown",
   "metadata": {},
   "source": [
    "Therefore, the observations are:\n",
    "* Promotion ranges from April to August\n",
    "* There are 4 types of promotions, e.g. Cap, Shirt, Fireworks, Bobblehead\n",
    "* Data is divided in seven days of the week\n",
    "* Highest attendence is 56000"
   ]
  },
  {
   "cell_type": "markdown",
   "metadata": {},
   "source": [
    "#### Box plot\n",
    "\n",
    "Attendence by day"
   ]
  },
  {
   "cell_type": "code",
   "execution_count": null,
   "metadata": {},
   "outputs": [],
   "source": [
    "plot(DodgersData$day_of_week, DodgersData$attend / 1000, main = \"Dodgers Attendence By Day Of Week\", xlab = \"Day of Week\", ylab = \"Attendance (thousands)\", col = \"violet\", las = 1)"
   ]
  }
 ],
 "metadata": {
  "kernelspec": {
   "display_name": "R",
   "language": "R",
   "name": "ir"
  },
  "language_info": {
   "codemirror_mode": "r",
   "file_extension": ".r",
   "mimetype": "text/x-r-source",
   "name": "R",
   "pygments_lexer": "r",
   "version": "3.5.1"
  }
 },
 "nbformat": 4,
 "nbformat_minor": 2
}
